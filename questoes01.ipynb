{
  "nbformat": 4,
  "nbformat_minor": 0,
  "metadata": {
    "colab": {
      "provenance": [],
      "authorship_tag": "ABX9TyPJCAH2omPqvlpfjA8wBp9J",
      "include_colab_link": true
    },
    "kernelspec": {
      "name": "python3",
      "display_name": "Python 3"
    },
    "language_info": {
      "name": "python"
    }
  },
  "cells": [
    {
      "cell_type": "markdown",
      "metadata": {
        "id": "view-in-github",
        "colab_type": "text"
      },
      "source": [
        "<a href=\"https://colab.research.google.com/github/gustavops02/nf3-big-data-gustavo/blob/main/questoes01.ipynb\" target=\"_parent\"><img src=\"https://colab.research.google.com/assets/colab-badge.svg\" alt=\"Open In Colab\"/></a>"
      ]
    },
    {
      "cell_type": "markdown",
      "source": [
        "## Primeira questão\n"
      ],
      "metadata": {
        "id": "80NgSsIdFNt1"
      }
    },
    {
      "cell_type": "code",
      "source": [
        "## 1a ) Agrupe os dados por tipo de bebidas;\n",
        "\n",
        "import pandas as pd\n",
        "\n",
        "df = pd.read_csv('world_alcohol.csv', sep=',', encoding = 'utf-8')\n",
        "\n",
        "bebida_group = df.groupby('Beverage Types')\n"
      ],
      "metadata": {
        "id": "HL1ipbLcFU1D"
      },
      "execution_count": null,
      "outputs": []
    },
    {
      "cell_type": "code",
      "source": [
        "## 1b ) Agrupe os dados por Região e por Ano;\n",
        "\n",
        "import pandas as pd\n",
        "\n",
        "df = pd.read_csv('world_alcohol.csv', sep=',', encoding = 'utf-8')\n",
        "\n",
        "regiao_ano_grouped = df.groupby(['WHO region', 'Year'])\n"
      ],
      "metadata": {
        "id": "Fq5-i-RxLB16"
      },
      "execution_count": null,
      "outputs": []
    },
    {
      "cell_type": "code",
      "source": [
        "## 1c ) Seção de Contagens: Contar a ocorrência de Regiões, de Países e a soma da coluna de valores por Bebida\n",
        "\n",
        "import pandas as pd\n",
        "\n",
        "df = pd.read_csv('world_alcohol.csv', sep=',', encoding = 'utf-8')\n",
        "\n",
        "group = df.groupby(['WHO region', 'Country'])\n",
        "count_regiao = group['WHO region'].value_counts()\n",
        "count_paises = group['Country'].value_counts()\n",
        "soma_valores = group['Display Value'].sum()\n"
      ],
      "metadata": {
        "id": "fFU9U7czL_Gy"
      },
      "execution_count": null,
      "outputs": []
    },
    {
      "cell_type": "code",
      "source": [
        "## 1d ) Realize análises estatísticas da coluna dos valores: Média, Moda, Mediana, Estatística Descritiva e Gráfico de comparação dos valores agrupados por tipo de bebida.\n",
        "\n",
        "import pandas as pd\n",
        "import matplotlib.pyplot as plt\n",
        "\n",
        "df = pd.read_csv('world_alcohol.csv', sep=',', encoding = 'utf-8')\n",
        "df['Display Value'].describe()\n",
        "\n",
        "\n",
        "## Gráfico\n",
        "group = df.groupby(['Beverage Types'])\n",
        "media = group['Display Value'].mean()\n",
        "\n",
        "media.plot(kind='bar', figsize=(8, 4))\n",
        "plt.xlabel('Tipo de bebida')\n",
        "plt.ylabel('Média dos valores')\n",
        "plt.title('Comparação dos valores por tipo de bebida agrupados')\n",
        "plt.show()\n",
        "\n"
      ],
      "metadata": {
        "id": "gFipWYJDOu6u"
      },
      "execution_count": null,
      "outputs": []
    },
    {
      "cell_type": "code",
      "source": [
        "## 1e) Mostre resultados de acordo com alguns critérios:\n",
        "\n",
        "## Parte 1: Mostrar a coluna de bebidas do ano de 1985\n",
        "\n",
        "import pandas as pd\n",
        "df = pd.read_csv('world_alcohol.csv', sep=',', encoding = 'utf-8')\n",
        "\n",
        "filtro_ano = df.loc[df['Year'] == 1985]\n",
        "coluna_1985 = filtro_ano['Beverage Types']\n",
        "coluna_1985\n",
        "\n",
        "## Parte 2: \n",
        "filtro_valores = df.loc[df['Display Value'] > 4.0]\n",
        "coluna_regiao = filtro_valores['WHO region']\n",
        "coluna_regiao"
      ],
      "metadata": {
        "id": "VgQVY8y_RpSp"
      },
      "execution_count": null,
      "outputs": []
    }
  ]
}