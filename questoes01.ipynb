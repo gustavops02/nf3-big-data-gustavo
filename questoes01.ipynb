{
  "nbformat": 4,
  "nbformat_minor": 0,
  "metadata": {
    "colab": {
      "provenance": [],
      "authorship_tag": "ABX9TyPaeLe4k+gCAc6t3FgnkNNM",
      "include_colab_link": true
    },
    "kernelspec": {
      "name": "python3",
      "display_name": "Python 3"
    },
    "language_info": {
      "name": "python"
    }
  },
  "cells": [
    {
      "cell_type": "markdown",
      "metadata": {
        "id": "view-in-github",
        "colab_type": "text"
      },
      "source": [
        "<a href=\"https://colab.research.google.com/github/gustavops02/nf3-big-data-gustavo/blob/main/questoes01.ipynb\" target=\"_parent\"><img src=\"https://colab.research.google.com/assets/colab-badge.svg\" alt=\"Open In Colab\"/></a>"
      ]
    },
    {
      "cell_type": "markdown",
      "source": [
        "## Primeira questão\n"
      ],
      "metadata": {
        "id": "80NgSsIdFNt1"
      }
    },
    {
      "cell_type": "code",
      "source": [
        "## 1a ) Agrupe os dados por tipo de bebidas;\n",
        "\n",
        "import pandas as pd\n",
        "\n",
        "df = pd.read_csv('world_alcohol.csv', sep=',', encoding = 'utf-8')\n",
        "\n",
        "bebida_group = df.groupby('Beverage Types')\n",
        "\n"
      ],
      "metadata": {
        "id": "HL1ipbLcFU1D"
      },
      "execution_count": null,
      "outputs": []
    }
  ]
}