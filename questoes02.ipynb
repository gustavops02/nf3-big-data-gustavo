{
  "nbformat": 4,
  "nbformat_minor": 0,
  "metadata": {
    "colab": {
      "provenance": [],
      "authorship_tag": "ABX9TyMkNbwAQbsfWyb9Kv3ltrBg",
      "include_colab_link": true
    },
    "kernelspec": {
      "name": "python3",
      "display_name": "Python 3"
    },
    "language_info": {
      "name": "python"
    }
  },
  "cells": [
    {
      "cell_type": "markdown",
      "metadata": {
        "id": "view-in-github",
        "colab_type": "text"
      },
      "source": [
        "<a href=\"https://colab.research.google.com/github/gustavops02/nf3-big-data-gustavo/blob/main/questoes02.ipynb\" target=\"_parent\"><img src=\"https://colab.research.google.com/assets/colab-badge.svg\" alt=\"Open In Colab\"/></a>"
      ]
    },
    {
      "cell_type": "markdown",
      "source": [
        "## Segunda Questão:\n",
        "Seja o dataset chamado cursos-prouni.csv que se encontra no endereço Cursos e notas de corte do\n",
        "PROUNI 2018 - Datasets - Brasil.IO. Baixe o arquivo, armazene no seu github** e obtenha os dados\n",
        "a partir desse endereço do github e realize as seguintes análises"
      ],
      "metadata": {
        "id": "tpiyzCKidM2-"
      }
    },
    {
      "cell_type": "code",
      "execution_count": null,
      "metadata": {
        "id": "eU2Z0CP4TxKb"
      },
      "outputs": [],
      "source": [
        "## 2a) Efetuar a limpeza das colunas de notas: onde tiver NaN (Not a Number), substituir por 0,0.\n",
        "import pandas as pd\n",
        "\n",
        "df = pd.read_csv('cursos-prouni.csv', sep=',', encoding = 'utf-8')\n",
        "\n",
        "df = df.fillna(0)\n",
        "df"
      ]
    },
    {
      "cell_type": "code",
      "source": [
        "## 2b) Agrupe os dados pelo grau (Bacharelado, Licenciatura, etc)\n",
        "\n",
        "import pandas as pd\n",
        "\n",
        "df = pd.read_csv('cursos-prouni.csv', sep=',', encoding = 'utf-8')\n",
        "\n",
        "groups = df.groupby('grau')\n",
        "groups"
      ],
      "metadata": {
        "id": "dFLQC-8Ic4to"
      },
      "execution_count": null,
      "outputs": []
    },
    {
      "cell_type": "code",
      "source": [
        "## 2c) Agrupe os dados pelos cursos de Matemática, Medicina e Pedagogia.\n",
        "\n",
        "import pandas as pd\n",
        "\n",
        "df = pd.read_csv('cursos-prouni.csv', sep=',', encoding = 'utf-8')\n",
        "\n",
        "cursos = ['Medicina', 'Matemática', 'Pedagogia']\n",
        "dados_filtrados = df[df['curso_busca'].isin(cursos)]\n",
        "\n",
        "group = dados_filtrados.groupby('curso_busca')\n",
        "\n",
        "for curso, grupo in groups:\n",
        "  print(cursos)\n",
        "  print(grupo)\n",
        "  print()"
      ],
      "metadata": {
        "id": "TL8sQZyKdgVi"
      },
      "execution_count": null,
      "outputs": []
    },
    {
      "cell_type": "code",
      "source": [
        "## 2d) Agrupe os dados por Estado e obtenha a média de notas de corte por Estado.\n",
        "\n",
        "import pandas as pd\n",
        "\n",
        "df = pd.read_csv('cursos-prouni.csv', sep=',', encoding = 'utf-8')\n",
        "\n",
        "media_por_estado = df.groupby('uf_busca')['nota_integral_ampla'].mean()\n",
        "\n",
        "print(media_por_estado)"
      ],
      "metadata": {
        "id": "6obKxD8YfgFv"
      },
      "execution_count": null,
      "outputs": []
    },
    {
      "cell_type": "code",
      "source": [
        "## 2e) Agrupe os dados pelos cursos Tecnológicos\n",
        "\n",
        "import pandas as pd\n",
        "\n",
        "df = pd.read_csv('cursos-prouni.csv', sep=',', encoding = 'utf-8')\n",
        "\n",
        "cursos_tecnologicos = df[df['grau'] == 'Tecnológico']\n",
        "cursos_tecnologicos"
      ],
      "metadata": {
        "id": "NYtOOLPBhIAt"
      },
      "execution_count": null,
      "outputs": []
    },
    {
      "cell_type": "code",
      "source": [
        "## 2f) Elimine a coluna “cidade_filtro” do dataframe\n",
        "\n",
        "import pandas as pd\n",
        "\n",
        "df = pd.read_csv('cursos-prouni.csv', sep=',', encoding = 'utf-8')\n",
        "\n",
        "df = df.drop('cidade_filtro', axis=1)\n",
        "df.info()"
      ],
      "metadata": {
        "id": "5yc0GrW7j2mJ"
      },
      "execution_count": null,
      "outputs": []
    },
    {
      "cell_type": "code",
      "source": [
        "## 2g) Apresente a média das mensalidades dos cursos de Medicina.\n",
        "\n",
        "import pandas as pd\n",
        "\n",
        "df = pd.read_csv('cursos-prouni.csv', sep=',', encoding = 'utf-8')\n",
        "\n",
        "group = df.groupby('curso_busca').get_group('Medicina')\n",
        "media = group.mean()\n",
        "media"
      ],
      "metadata": {
        "id": "hL8GNp6ykXEJ"
      },
      "execution_count": null,
      "outputs": []
    },
    {
      "cell_type": "code",
      "source": [
        "## 2h) Média das notas de corte dos cursos de tempo integral.\n",
        "\n",
        "import pandas as pd\n",
        "\n",
        "df = pd.read_csv('cursos-prouni.csv', sep=',', encoding = 'utf-8')\n",
        "\n",
        "cursos_integral = df[df['turno'] == 'Integral']\n",
        "media = cursos_integral['nota_integral_ampla'].mean()\n",
        "\n",
        "media\n",
        "\n"
      ],
      "metadata": {
        "id": "b1lp8zc3mDQc"
      },
      "execution_count": null,
      "outputs": []
    },
    {
      "cell_type": "code",
      "source": [
        "##2i) Estatística Descritiva das Notas Integral Ampla dos cursos de Bacharelado.\n",
        "\n",
        "import pandas as pd\n",
        "\n",
        "df = pd.read_csv('cursos-prouni.csv', sep=',', encoding = 'utf-8')\n",
        "\n",
        "bacharel = df[df['grau'] == 'Bacharelado']\n",
        "\n",
        "estatistica = bacharel['nota_integral_ampla'].describe()\n",
        "estatistica"
      ],
      "metadata": {
        "id": "_hivLFw7m60T"
      },
      "execution_count": null,
      "outputs": []
    },
    {
      "cell_type": "code",
      "source": [
        "## 2j) Gráfico comparativo entre o grau dos cursos (Bacharelado, Licenciatura, Tecnologia, etc) pelas Notas Integral de Cotas.\n",
        "\n",
        "import pandas as pd\n",
        "import matplotlib.pyplot as plt\n",
        "\n",
        "df = pd.read_csv('cursos-prouni.csv', sep=',', encoding = 'utf-8')\n",
        "\n",
        "dados = df[['grau','nota_integral_cotas']]\n",
        "\n",
        "media = dados.groupby('grau')['nota_integral_cotas'].mean()\n",
        "\n",
        "media.plot(kind='bar')\n",
        "plt.xlabel(\"Grau do curso\")\n",
        "plt.ylabel('Nota integral de Cotas')\n",
        "plt.title('Grau do Curso x Nota Integral de Cotas')\n",
        "plt.show()"
      ],
      "metadata": {
        "id": "Pmxik_33oFbH"
      },
      "execution_count": null,
      "outputs": []
    }
  ]
}